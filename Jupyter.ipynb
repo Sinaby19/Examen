{
 "cells": [
  {
   "cell_type": "code",
   "execution_count": 3,
   "metadata": {},
   "outputs": [
    {
     "name": "stdout",
     "output_type": "stream",
     "text": [
      "Dame un número\n"
     ]
    },
    {
     "ename": "ValueError",
     "evalue": "invalid literal for int() with base 10: ''",
     "output_type": "error",
     "traceback": [
      "\u001b[1;31m---------------------------------------------------------------------------\u001b[0m",
      "\u001b[1;31mValueError\u001b[0m                                Traceback (most recent call last)",
      "\u001b[1;32mc:\\Users\\smv01\\OneDrive\\Documentos\\Visual\\Jupyter.ipynb Cell 1'\u001b[0m in \u001b[0;36m<cell line: 2>\u001b[1;34m()\u001b[0m\n\u001b[0;32m      <a href='vscode-notebook-cell:/c%3A/Users/smv01/OneDrive/Documentos/Visual/Jupyter.ipynb#ch0000000?line=0'>1</a>\u001b[0m \u001b[39mprint\u001b[39m (\u001b[39m\"\u001b[39m\u001b[39mDame un número\u001b[39m\u001b[39m\"\u001b[39m)\n\u001b[1;32m----> <a href='vscode-notebook-cell:/c%3A/Users/smv01/OneDrive/Documentos/Visual/Jupyter.ipynb#ch0000000?line=1'>2</a>\u001b[0m num \u001b[39m=\u001b[39m \u001b[39mint\u001b[39;49m (\u001b[39minput\u001b[39;49m())\n\u001b[0;32m      <a href='vscode-notebook-cell:/c%3A/Users/smv01/OneDrive/Documentos/Visual/Jupyter.ipynb#ch0000000?line=2'>3</a>\u001b[0m \u001b[39mif\u001b[39;00m num \u001b[39m%\u001b[39m \u001b[39m2\u001b[39m \u001b[39m==\u001b[39m \u001b[39m0\u001b[39m:\n\u001b[0;32m      <a href='vscode-notebook-cell:/c%3A/Users/smv01/OneDrive/Documentos/Visual/Jupyter.ipynb#ch0000000?line=3'>4</a>\u001b[0m     \u001b[39mprint\u001b[39m (\u001b[39m\"\u001b[39m\u001b[39mNúmero Par o divisible entre \u001b[39m\u001b[39m\"\u001b[39m)\n",
      "\u001b[1;31mValueError\u001b[0m: invalid literal for int() with base 10: ''"
     ]
    }
   ],
   "source": [
    "print (\"Dame un número\")\n",
    "num = int (input())\n",
    "if num % 2 == 0:\n",
    "    print (\"Número Par o divisible entre \")\n",
    "if num % 3 == 0:\n",
    "    print (\"Número Impar o divisible entre tres\")\n",
    "if num % 5 == 0:\n",
    "    print (\"Número Impar o divisible entre cinco\")"
   ]
  }
 ],
 "metadata": {
  "kernelspec": {
   "display_name": "Python 3.10.4 64-bit",
   "language": "python",
   "name": "python3"
  },
  "language_info": {
   "codemirror_mode": {
    "name": "ipython",
    "version": 3
   },
   "file_extension": ".py",
   "mimetype": "text/x-python",
   "name": "python",
   "nbconvert_exporter": "python",
   "pygments_lexer": "ipython3",
   "version": "3.10.4"
  },
  "orig_nbformat": 4,
  "vscode": {
   "interpreter": {
    "hash": "9e208daafbaa95391aa562b1a235072f8a7cb17329ea464ff97a5efff577bc9e"
   }
  }
 },
 "nbformat": 4,
 "nbformat_minor": 2
}
